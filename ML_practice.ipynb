{
  "nbformat": 4,
  "nbformat_minor": 0,
  "metadata": {
    "colab": {
      "name": "ML-practice.ipynb",
      "provenance": [],
      "authorship_tag": "ABX9TyP5lg7th1TFpq/BW/4yHT0t",
      "include_colab_link": true
    },
    "kernelspec": {
      "name": "python3",
      "display_name": "Python 3"
    }
  },
  "cells": [
    {
      "cell_type": "markdown",
      "metadata": {
        "id": "view-in-github",
        "colab_type": "text"
      },
      "source": [
        "<a href=\"https://colab.research.google.com/github/yakthra/ml-learning/blob/master/ML_practice.ipynb\" target=\"_parent\"><img src=\"https://colab.research.google.com/assets/colab-badge.svg\" alt=\"Open In Colab\"/></a>"
      ]
    },
    {
      "cell_type": "code",
      "metadata": {
        "id": "qIdjt7V1Nm8l",
        "colab_type": "code",
        "colab": {
          "base_uri": "https://localhost:8080/",
          "height": 119
        },
        "outputId": "245c1e3e-47c9-48a1-9a11-d828776d93b6"
      },
      "source": [
        "import numpy as np\n",
        "\n",
        "np.ndarray([3,5])"
      ],
      "execution_count": 3,
      "outputs": [
        {
          "output_type": "execute_result",
          "data": {
            "text/plain": [
              "array([[1.95948490e-316, 1.01855798e-312, 1.01855798e-312,\n",
              "        9.54898106e-313, 1.16709769e-312],\n",
              "       [1.03977794e-312, 1.23075756e-312, 1.18831764e-312,\n",
              "        1.01855798e-312, 9.76118064e-313],\n",
              "       [1.12465777e-312, 1.18831764e-312, 1.18831764e-312,\n",
              "        2.18565567e-312, 8.70018275e-313]])"
            ]
          },
          "metadata": {
            "tags": []
          },
          "execution_count": 3
        }
      ]
    }
  ]
}